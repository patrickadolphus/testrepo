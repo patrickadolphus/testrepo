{
 "cells": [
  {
   "cell_type": "markdown",
   "id": "f969227e-4ab5-4972-94e5-bbbc197de91d",
   "metadata": {},
   "source": [
    "# Data Science Tools and Ecosystem"
   ]
  },
  {
   "cell_type": "markdown",
   "id": "dd8ea8ea-8c1a-4dd8-a776-6cf2c3ed2294",
   "metadata": {},
   "source": [
    "## Author\n",
    "Patrick"
   ]
  },
  {
   "cell_type": "markdown",
   "id": "1ae9640b-af6c-4ee1-ae75-467d451c06e5",
   "metadata": {},
   "source": [
    "In this notebook, Data Science Tools and Ecosystem are summarized."
   ]
  },
  {
   "cell_type": "markdown",
   "id": "1a86f396-318a-4c70-88a9-a97b3446b1b6",
   "metadata": {},
   "source": [
    "**Objectives:**\n",
    "- Create formatted markdown cells\n",
    "- Create ordered lists\n",
    "- Create unordered lists\n",
    "- Create tables\n",
    "- Perform arithmetic"
   ]
  },
  {
   "cell_type": "markdown",
   "id": "8b5c9bdf-fe99-48ca-a872-909182dc86da",
   "metadata": {},
   "source": [
    "Some of the popular languages that Data Scientists use are:\n",
    "1. Python\n",
    "2. Julia\n",
    "3. R"
   ]
  },
  {
   "cell_type": "markdown",
   "id": "ea8e6dad-c7a7-4c8f-808b-986c3ad2202a",
   "metadata": {},
   "source": [
    "Some of the commonly used libraries used by Data Scientists include:\n",
    "1. ggplot\n",
    "2. plotly\n",
    "3. dplyr\n",
    "4. caret"
   ]
  },
  {
   "cell_type": "markdown",
   "id": "ea47e3a8-8f5c-48b2-adbc-80dd0185db4d",
   "metadata": {},
   "source": [
    "| Data Science Tools |\n",
    "| ------------------ |\n",
    "| Spyder |\n",
    "|R Studio |\n",
    "| Jupyter Notebook|"
   ]
  },
  {
   "cell_type": "markdown",
   "id": "4c42aa30-37a2-4d50-9210-55d8502c761d",
   "metadata": {},
   "source": [
    "Below are a few examples of evaluating arithmetic expressions in Python."
   ]
  },
  {
   "cell_type": "code",
   "execution_count": 3,
   "id": "e9801495-08ba-45b1-93ac-ce424c41e1cd",
   "metadata": {},
   "outputs": [
    {
     "data": {
      "text/plain": [
       "17"
      ]
     },
     "execution_count": 3,
     "metadata": {},
     "output_type": "execute_result"
    }
   ],
   "source": [
    "#This is a simple arithmetic expression to multiply then add integers.\n",
    "(3*4)+5"
   ]
  },
  {
   "cell_type": "code",
   "execution_count": 9,
   "id": "6dedb15a-5f8e-4e46-8951-af495c268140",
   "metadata": {},
   "outputs": [
    {
     "name": "stdout",
     "output_type": "stream",
     "text": [
      "200 minutes is equal to 3.3333333333333335 hours\n"
     ]
    }
   ],
   "source": [
    "#This will convert 200 minutes to hours by dividing by 60.\n",
    "\n",
    "x = 200\n",
    "\n",
    "y = x / 60\n",
    "\n",
    "print(f\"{x} minutes is equal to {y} hours\")"
   ]
  }
 ],
 "metadata": {
  "kernelspec": {
   "display_name": "Python 3 (ipykernel)",
   "language": "python",
   "name": "python3"
  },
  "language_info": {
   "codemirror_mode": {
    "name": "ipython",
    "version": 3
   },
   "file_extension": ".py",
   "mimetype": "text/x-python",
   "name": "python",
   "nbconvert_exporter": "python",
   "pygments_lexer": "ipython3",
   "version": "3.12.7"
  }
 },
 "nbformat": 4,
 "nbformat_minor": 5
}
